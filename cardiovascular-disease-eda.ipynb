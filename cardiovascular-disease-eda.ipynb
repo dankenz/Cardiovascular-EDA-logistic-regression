{
 "cells": [
  {
   "cell_type": "markdown",
   "metadata": {
    "papermill": {
     "duration": 0.019313,
     "end_time": "2021-02-10T13:15:00.322003",
     "exception": false,
     "start_time": "2021-02-10T13:15:00.302690",
     "status": "completed"
    },
    "tags": []
   },
   "source": [
    "# About this notebook \n",
    "\n",
    "In this notebook we are going to explore the dataset in https://www.kaggle.com/sulianova/cardiovascular-disease-dataset .\n",
    "The dataset maps the cardiac condition of several patients (70k). We are also going to try a logistic regression to predict\n",
    "if a given patient have a cardiovascular disease.\n",
    "\n",
    "# Table of contents\n",
    "\n",
    "* Importing and reading the data\n",
    "* Feature analysis\n",
    "* Cleaning the data\n",
    "* Exploratory data analysis\n",
    "* Logistic regression\n",
    "* Notes\n",
    "\n",
    "\n",
    "\n",
    "What is the plan?\n",
    "\n",
    "Of course we need to first read the data and see the basic information there. Then we can see the distribution of each feature in the data and compare the distributions between 'gender' =1 and =2 and 'cardio' =0 and =1, taking notes as we go.\n",
    "To do the logistic regression we are going to use the sklearn package. "
   ]
  },
  {
   "cell_type": "markdown",
   "metadata": {
    "papermill": {
     "duration": 0.01768,
     "end_time": "2021-02-10T13:15:00.358264",
     "exception": false,
     "start_time": "2021-02-10T13:15:00.340584",
     "status": "completed"
    },
    "tags": []
   },
   "source": [
    "# Importing the data"
   ]
  },
  {
   "cell_type": "code",
   "execution_count": 1,
   "metadata": {
    "execution": {
     "iopub.execute_input": "2021-02-10T13:15:00.398852Z",
     "iopub.status.busy": "2021-02-10T13:15:00.397809Z",
     "iopub.status.idle": "2021-02-10T13:15:01.766011Z",
     "shell.execute_reply": "2021-02-10T13:15:01.766628Z"
    },
    "papermill": {
     "duration": 1.390389,
     "end_time": "2021-02-10T13:15:01.766963",
     "exception": false,
     "start_time": "2021-02-10T13:15:00.376574",
     "status": "completed"
    },
    "tags": []
   },
   "outputs": [],
   "source": [
    "import pandas as pd\n",
    "import numpy as np\n",
    "import matplotlib.pyplot as plt\n",
    "import seaborn as sns\n",
    "from sklearn.linear_model import LogisticRegression\n",
    "\n",
    "from sklearn.model_selection import train_test_split, cross_val_score\n",
    "\n",
    "\n",
    "data=pd.read_csv('../input/cardiovascular-disease-dataset/cardio_train.csv'\n",
    "                 ,sep=';'#';' separates the data\n",
    "                 )"
   ]
  },
  {
   "cell_type": "markdown",
   "metadata": {
    "papermill": {
     "duration": 0.017857,
     "end_time": "2021-02-10T13:15:01.804362",
     "exception": false,
     "start_time": "2021-02-10T13:15:01.786505",
     "status": "completed"
    },
    "tags": []
   },
   "source": [
    "# Feature analysis"
   ]
  },
  {
   "cell_type": "code",
   "execution_count": 2,
   "metadata": {
    "execution": {
     "iopub.execute_input": "2021-02-10T13:15:01.856087Z",
     "iopub.status.busy": "2021-02-10T13:15:01.855330Z",
     "iopub.status.idle": "2021-02-10T13:15:01.983803Z",
     "shell.execute_reply": "2021-02-10T13:15:01.984312Z"
    },
    "papermill": {
     "duration": 0.162147,
     "end_time": "2021-02-10T13:15:01.984553",
     "exception": false,
     "start_time": "2021-02-10T13:15:01.822406",
     "status": "completed"
    },
    "tags": []
   },
   "outputs": [
    {
     "data": {
      "text/html": [
       "<div>\n",
       "<style scoped>\n",
       "    .dataframe tbody tr th:only-of-type {\n",
       "        vertical-align: middle;\n",
       "    }\n",
       "\n",
       "    .dataframe tbody tr th {\n",
       "        vertical-align: top;\n",
       "    }\n",
       "\n",
       "    .dataframe thead th {\n",
       "        text-align: right;\n",
       "    }\n",
       "</style>\n",
       "<table border=\"1\" class=\"dataframe\">\n",
       "  <thead>\n",
       "    <tr style=\"text-align: right;\">\n",
       "      <th></th>\n",
       "      <th>id</th>\n",
       "      <th>age</th>\n",
       "      <th>gender</th>\n",
       "      <th>height</th>\n",
       "      <th>weight</th>\n",
       "      <th>ap_hi</th>\n",
       "      <th>ap_lo</th>\n",
       "      <th>cholesterol</th>\n",
       "      <th>gluc</th>\n",
       "      <th>smoke</th>\n",
       "      <th>alco</th>\n",
       "      <th>active</th>\n",
       "      <th>cardio</th>\n",
       "    </tr>\n",
       "  </thead>\n",
       "  <tbody>\n",
       "    <tr>\n",
       "      <th>0</th>\n",
       "      <td>0</td>\n",
       "      <td>50.391781</td>\n",
       "      <td>2</td>\n",
       "      <td>168</td>\n",
       "      <td>62.0</td>\n",
       "      <td>110</td>\n",
       "      <td>80</td>\n",
       "      <td>1</td>\n",
       "      <td>1</td>\n",
       "      <td>0</td>\n",
       "      <td>0</td>\n",
       "      <td>1</td>\n",
       "      <td>0</td>\n",
       "    </tr>\n",
       "    <tr>\n",
       "      <th>1</th>\n",
       "      <td>1</td>\n",
       "      <td>55.419178</td>\n",
       "      <td>1</td>\n",
       "      <td>156</td>\n",
       "      <td>85.0</td>\n",
       "      <td>140</td>\n",
       "      <td>90</td>\n",
       "      <td>3</td>\n",
       "      <td>1</td>\n",
       "      <td>0</td>\n",
       "      <td>0</td>\n",
       "      <td>1</td>\n",
       "      <td>1</td>\n",
       "    </tr>\n",
       "    <tr>\n",
       "      <th>2</th>\n",
       "      <td>2</td>\n",
       "      <td>51.663014</td>\n",
       "      <td>1</td>\n",
       "      <td>165</td>\n",
       "      <td>64.0</td>\n",
       "      <td>130</td>\n",
       "      <td>70</td>\n",
       "      <td>3</td>\n",
       "      <td>1</td>\n",
       "      <td>0</td>\n",
       "      <td>0</td>\n",
       "      <td>0</td>\n",
       "      <td>1</td>\n",
       "    </tr>\n",
       "    <tr>\n",
       "      <th>3</th>\n",
       "      <td>3</td>\n",
       "      <td>48.282192</td>\n",
       "      <td>2</td>\n",
       "      <td>169</td>\n",
       "      <td>82.0</td>\n",
       "      <td>150</td>\n",
       "      <td>100</td>\n",
       "      <td>1</td>\n",
       "      <td>1</td>\n",
       "      <td>0</td>\n",
       "      <td>0</td>\n",
       "      <td>1</td>\n",
       "      <td>1</td>\n",
       "    </tr>\n",
       "    <tr>\n",
       "      <th>4</th>\n",
       "      <td>4</td>\n",
       "      <td>47.873973</td>\n",
       "      <td>1</td>\n",
       "      <td>156</td>\n",
       "      <td>56.0</td>\n",
       "      <td>100</td>\n",
       "      <td>60</td>\n",
       "      <td>1</td>\n",
       "      <td>1</td>\n",
       "      <td>0</td>\n",
       "      <td>0</td>\n",
       "      <td>0</td>\n",
       "      <td>0</td>\n",
       "    </tr>\n",
       "  </tbody>\n",
       "</table>\n",
       "</div>"
      ],
      "text/plain": [
       "   id        age  gender  height  weight  ap_hi  ap_lo  cholesterol  gluc  \\\n",
       "0   0  50.391781       2     168    62.0    110     80            1     1   \n",
       "1   1  55.419178       1     156    85.0    140     90            3     1   \n",
       "2   2  51.663014       1     165    64.0    130     70            3     1   \n",
       "3   3  48.282192       2     169    82.0    150    100            1     1   \n",
       "4   4  47.873973       1     156    56.0    100     60            1     1   \n",
       "\n",
       "   smoke  alco  active  cardio  \n",
       "0      0     0       1       0  \n",
       "1      0     0       1       1  \n",
       "2      0     0       0       1  \n",
       "3      0     0       1       1  \n",
       "4      0     0       0       0  "
      ]
     },
     "execution_count": 2,
     "metadata": {},
     "output_type": "execute_result"
    }
   ],
   "source": [
    "data['age']=data['age']/365 #the date were in days\n",
    "data.head()\n",
    "\n",
    "\n",
    "\n",
    "\n",
    "\n"
   ]
  },
  {
   "cell_type": "code",
   "execution_count": 3,
   "metadata": {
    "execution": {
     "iopub.execute_input": "2021-02-10T13:15:02.033397Z",
     "iopub.status.busy": "2021-02-10T13:15:02.032671Z",
     "iopub.status.idle": "2021-02-10T13:15:02.109864Z",
     "shell.execute_reply": "2021-02-10T13:15:02.109338Z"
    },
    "papermill": {
     "duration": 0.105901,
     "end_time": "2021-02-10T13:15:02.110020",
     "exception": false,
     "start_time": "2021-02-10T13:15:02.004119",
     "status": "completed"
    },
    "tags": []
   },
   "outputs": [
    {
     "data": {
      "text/html": [
       "<div>\n",
       "<style scoped>\n",
       "    .dataframe tbody tr th:only-of-type {\n",
       "        vertical-align: middle;\n",
       "    }\n",
       "\n",
       "    .dataframe tbody tr th {\n",
       "        vertical-align: top;\n",
       "    }\n",
       "\n",
       "    .dataframe thead th {\n",
       "        text-align: right;\n",
       "    }\n",
       "</style>\n",
       "<table border=\"1\" class=\"dataframe\">\n",
       "  <thead>\n",
       "    <tr style=\"text-align: right;\">\n",
       "      <th></th>\n",
       "      <th>id</th>\n",
       "      <th>age</th>\n",
       "      <th>gender</th>\n",
       "      <th>height</th>\n",
       "      <th>weight</th>\n",
       "      <th>ap_hi</th>\n",
       "      <th>ap_lo</th>\n",
       "      <th>cholesterol</th>\n",
       "      <th>gluc</th>\n",
       "      <th>smoke</th>\n",
       "      <th>alco</th>\n",
       "      <th>active</th>\n",
       "      <th>cardio</th>\n",
       "    </tr>\n",
       "  </thead>\n",
       "  <tbody>\n",
       "    <tr>\n",
       "      <th>count</th>\n",
       "      <td>70000.000000</td>\n",
       "      <td>70000.000000</td>\n",
       "      <td>70000.000000</td>\n",
       "      <td>70000.000000</td>\n",
       "      <td>70000.000000</td>\n",
       "      <td>70000.000000</td>\n",
       "      <td>70000.000000</td>\n",
       "      <td>70000.000000</td>\n",
       "      <td>70000.000000</td>\n",
       "      <td>70000.000000</td>\n",
       "      <td>70000.000000</td>\n",
       "      <td>70000.000000</td>\n",
       "      <td>70000.000000</td>\n",
       "    </tr>\n",
       "    <tr>\n",
       "      <th>mean</th>\n",
       "      <td>49972.419900</td>\n",
       "      <td>53.339358</td>\n",
       "      <td>1.349571</td>\n",
       "      <td>164.359229</td>\n",
       "      <td>74.205690</td>\n",
       "      <td>128.817286</td>\n",
       "      <td>96.630414</td>\n",
       "      <td>1.366871</td>\n",
       "      <td>1.226457</td>\n",
       "      <td>0.088129</td>\n",
       "      <td>0.053771</td>\n",
       "      <td>0.803729</td>\n",
       "      <td>0.499700</td>\n",
       "    </tr>\n",
       "    <tr>\n",
       "      <th>std</th>\n",
       "      <td>28851.302323</td>\n",
       "      <td>6.759594</td>\n",
       "      <td>0.476838</td>\n",
       "      <td>8.210126</td>\n",
       "      <td>14.395757</td>\n",
       "      <td>154.011419</td>\n",
       "      <td>188.472530</td>\n",
       "      <td>0.680250</td>\n",
       "      <td>0.572270</td>\n",
       "      <td>0.283484</td>\n",
       "      <td>0.225568</td>\n",
       "      <td>0.397179</td>\n",
       "      <td>0.500003</td>\n",
       "    </tr>\n",
       "    <tr>\n",
       "      <th>min</th>\n",
       "      <td>0.000000</td>\n",
       "      <td>29.583562</td>\n",
       "      <td>1.000000</td>\n",
       "      <td>55.000000</td>\n",
       "      <td>10.000000</td>\n",
       "      <td>-150.000000</td>\n",
       "      <td>-70.000000</td>\n",
       "      <td>1.000000</td>\n",
       "      <td>1.000000</td>\n",
       "      <td>0.000000</td>\n",
       "      <td>0.000000</td>\n",
       "      <td>0.000000</td>\n",
       "      <td>0.000000</td>\n",
       "    </tr>\n",
       "    <tr>\n",
       "      <th>25%</th>\n",
       "      <td>25006.750000</td>\n",
       "      <td>48.394521</td>\n",
       "      <td>1.000000</td>\n",
       "      <td>159.000000</td>\n",
       "      <td>65.000000</td>\n",
       "      <td>120.000000</td>\n",
       "      <td>80.000000</td>\n",
       "      <td>1.000000</td>\n",
       "      <td>1.000000</td>\n",
       "      <td>0.000000</td>\n",
       "      <td>0.000000</td>\n",
       "      <td>1.000000</td>\n",
       "      <td>0.000000</td>\n",
       "    </tr>\n",
       "    <tr>\n",
       "      <th>50%</th>\n",
       "      <td>50001.500000</td>\n",
       "      <td>53.980822</td>\n",
       "      <td>1.000000</td>\n",
       "      <td>165.000000</td>\n",
       "      <td>72.000000</td>\n",
       "      <td>120.000000</td>\n",
       "      <td>80.000000</td>\n",
       "      <td>1.000000</td>\n",
       "      <td>1.000000</td>\n",
       "      <td>0.000000</td>\n",
       "      <td>0.000000</td>\n",
       "      <td>1.000000</td>\n",
       "      <td>0.000000</td>\n",
       "    </tr>\n",
       "    <tr>\n",
       "      <th>75%</th>\n",
       "      <td>74889.250000</td>\n",
       "      <td>58.430137</td>\n",
       "      <td>2.000000</td>\n",
       "      <td>170.000000</td>\n",
       "      <td>82.000000</td>\n",
       "      <td>140.000000</td>\n",
       "      <td>90.000000</td>\n",
       "      <td>2.000000</td>\n",
       "      <td>1.000000</td>\n",
       "      <td>0.000000</td>\n",
       "      <td>0.000000</td>\n",
       "      <td>1.000000</td>\n",
       "      <td>1.000000</td>\n",
       "    </tr>\n",
       "    <tr>\n",
       "      <th>max</th>\n",
       "      <td>99999.000000</td>\n",
       "      <td>64.967123</td>\n",
       "      <td>2.000000</td>\n",
       "      <td>250.000000</td>\n",
       "      <td>200.000000</td>\n",
       "      <td>16020.000000</td>\n",
       "      <td>11000.000000</td>\n",
       "      <td>3.000000</td>\n",
       "      <td>3.000000</td>\n",
       "      <td>1.000000</td>\n",
       "      <td>1.000000</td>\n",
       "      <td>1.000000</td>\n",
       "      <td>1.000000</td>\n",
       "    </tr>\n",
       "  </tbody>\n",
       "</table>\n",
       "</div>"
      ],
      "text/plain": [
       "                 id           age        gender        height        weight  \\\n",
       "count  70000.000000  70000.000000  70000.000000  70000.000000  70000.000000   \n",
       "mean   49972.419900     53.339358      1.349571    164.359229     74.205690   \n",
       "std    28851.302323      6.759594      0.476838      8.210126     14.395757   \n",
       "min        0.000000     29.583562      1.000000     55.000000     10.000000   \n",
       "25%    25006.750000     48.394521      1.000000    159.000000     65.000000   \n",
       "50%    50001.500000     53.980822      1.000000    165.000000     72.000000   \n",
       "75%    74889.250000     58.430137      2.000000    170.000000     82.000000   \n",
       "max    99999.000000     64.967123      2.000000    250.000000    200.000000   \n",
       "\n",
       "              ap_hi         ap_lo   cholesterol          gluc         smoke  \\\n",
       "count  70000.000000  70000.000000  70000.000000  70000.000000  70000.000000   \n",
       "mean     128.817286     96.630414      1.366871      1.226457      0.088129   \n",
       "std      154.011419    188.472530      0.680250      0.572270      0.283484   \n",
       "min     -150.000000    -70.000000      1.000000      1.000000      0.000000   \n",
       "25%      120.000000     80.000000      1.000000      1.000000      0.000000   \n",
       "50%      120.000000     80.000000      1.000000      1.000000      0.000000   \n",
       "75%      140.000000     90.000000      2.000000      1.000000      0.000000   \n",
       "max    16020.000000  11000.000000      3.000000      3.000000      1.000000   \n",
       "\n",
       "               alco        active        cardio  \n",
       "count  70000.000000  70000.000000  70000.000000  \n",
       "mean       0.053771      0.803729      0.499700  \n",
       "std        0.225568      0.397179      0.500003  \n",
       "min        0.000000      0.000000      0.000000  \n",
       "25%        0.000000      1.000000      0.000000  \n",
       "50%        0.000000      1.000000      0.000000  \n",
       "75%        0.000000      1.000000      1.000000  \n",
       "max        1.000000      1.000000      1.000000  "
      ]
     },
     "execution_count": 3,
     "metadata": {},
     "output_type": "execute_result"
    }
   ],
   "source": [
    "data.describe()"
   ]
  },
  {
   "cell_type": "markdown",
   "metadata": {
    "papermill": {
     "duration": 0.020495,
     "end_time": "2021-02-10T13:15:02.150135",
     "exception": false,
     "start_time": "2021-02-10T13:15:02.129640",
     "status": "completed"
    },
    "tags": []
   },
   "source": [
    "Features:\n",
    "\n",
    "* Age | Objective Feature | age | int (days)\n",
    "* Height | Objective Feature | height | int (cm) |\n",
    "* Weight | Objective Feature | weight | float (kg) |\n",
    "* Gender | Objective Feature | gender | categorical code | 1 - women, 2 - men\n",
    "* Systolic blood pressure | Examination Feature | ap_hi | int |\n",
    "* Diastolic blood pressure | Examination Feature | ap_lo | int |\n",
    "* Cholesterol | Examination Feature | cholesterol | 1: normal, 2: above normal, 3: well above normal |\n",
    "* Glucose | Examination Feature | gluc | 1: normal, 2: above normal, 3: well above normal |\n",
    "* Smoking | Subjective Feature | smoke | binary |\n",
    "* Alcohol intake | Subjective Feature | alco | binary |\n",
    "* Physical activity | Subjective Feature | active | binary |\n",
    "* Presence or absence of cardiovascular disease | Target Variable | cardio | binary |\n",
    "\n",
    "\n",
    "All of the dataset values were collected at the moment of medical examination.\n",
    "\n",
    "\n",
    "Here we can se some usefull information, like:\n",
    "* The mean age is 53.3 years and the youngest patient is almost 30 years old\n",
    "* The \"mean\" of gender is 1.3 (1 - women, 2 - men) which means there is more women in the dataset than men\n",
    "* The mean of the height is 164 cm\n",
    "* The mean of the weight is 74.2 kg \n",
    "* If the systolic and diastolic blood pressure are measured in mmHg, we shouldn't be getting negative minimum values, wich suggests some transcription errors. Also some values (visible from the data.head()) are beyond 120 mmHg for ap_hi and 80 mmHg for ap_lo , and that consitutes hypertension already.\n",
    "* The maximum value of ap_lo and ap_hi is way too high to make any sense, so we better clean the impossible values\n",
    "* The mean of smoke is 0.08, so few people in this dataset smokes, the same can be said for alcohol intake(0.05).\n",
    "* The mean of active is 0.8 so a lot of people do regular physical exercise\n",
    "* The mean of cardio is 0.499 so nearly half of the people in the dataset have some cardiovascular disease. This also means this dataset is balanced so we dont need to convert to a balanced dataset to do our machine learning algoritm."
   ]
  },
  {
   "cell_type": "code",
   "execution_count": 4,
   "metadata": {
    "execution": {
     "iopub.execute_input": "2021-02-10T13:15:02.196926Z",
     "iopub.status.busy": "2021-02-10T13:15:02.196119Z",
     "iopub.status.idle": "2021-02-10T13:15:02.215865Z",
     "shell.execute_reply": "2021-02-10T13:15:02.214838Z"
    },
    "papermill": {
     "duration": 0.045965,
     "end_time": "2021-02-10T13:15:02.216055",
     "exception": false,
     "start_time": "2021-02-10T13:15:02.170090",
     "status": "completed"
    },
    "tags": []
   },
   "outputs": [
    {
     "name": "stdout",
     "output_type": "stream",
     "text": [
      "<class 'pandas.core.frame.DataFrame'>\n",
      "RangeIndex: 70000 entries, 0 to 69999\n",
      "Data columns (total 13 columns):\n",
      " #   Column       Non-Null Count  Dtype  \n",
      "---  ------       --------------  -----  \n",
      " 0   id           70000 non-null  int64  \n",
      " 1   age          70000 non-null  float64\n",
      " 2   gender       70000 non-null  int64  \n",
      " 3   height       70000 non-null  int64  \n",
      " 4   weight       70000 non-null  float64\n",
      " 5   ap_hi        70000 non-null  int64  \n",
      " 6   ap_lo        70000 non-null  int64  \n",
      " 7   cholesterol  70000 non-null  int64  \n",
      " 8   gluc         70000 non-null  int64  \n",
      " 9   smoke        70000 non-null  int64  \n",
      " 10  alco         70000 non-null  int64  \n",
      " 11  active       70000 non-null  int64  \n",
      " 12  cardio       70000 non-null  int64  \n",
      "dtypes: float64(2), int64(11)\n",
      "memory usage: 6.9 MB\n"
     ]
    }
   ],
   "source": [
    "data.info()"
   ]
  },
  {
   "cell_type": "markdown",
   "metadata": {
    "papermill": {
     "duration": 0.021705,
     "end_time": "2021-02-10T13:15:02.258578",
     "exception": false,
     "start_time": "2021-02-10T13:15:02.236873",
     "status": "completed"
    },
    "tags": []
   },
   "source": [
    "not a single value is missing(NaN)"
   ]
  },
  {
   "cell_type": "markdown",
   "metadata": {
    "papermill": {
     "duration": 0.023351,
     "end_time": "2021-02-10T13:15:02.305122",
     "exception": false,
     "start_time": "2021-02-10T13:15:02.281771",
     "status": "completed"
    },
    "tags": []
   },
   "source": [
    "# Data cleaning"
   ]
  },
  {
   "cell_type": "code",
   "execution_count": 5,
   "metadata": {
    "execution": {
     "iopub.execute_input": "2021-02-10T13:15:02.363535Z",
     "iopub.status.busy": "2021-02-10T13:15:02.357747Z",
     "iopub.status.idle": "2021-02-10T13:15:02.378188Z",
     "shell.execute_reply": "2021-02-10T13:15:02.377273Z"
    },
    "papermill": {
     "duration": 0.050459,
     "end_time": "2021-02-10T13:15:02.378372",
     "exception": false,
     "start_time": "2021-02-10T13:15:02.327913",
     "status": "completed"
    },
    "tags": []
   },
   "outputs": [
    {
     "data": {
      "text/html": [
       "<div>\n",
       "<style scoped>\n",
       "    .dataframe tbody tr th:only-of-type {\n",
       "        vertical-align: middle;\n",
       "    }\n",
       "\n",
       "    .dataframe tbody tr th {\n",
       "        vertical-align: top;\n",
       "    }\n",
       "\n",
       "    .dataframe thead th {\n",
       "        text-align: right;\n",
       "    }\n",
       "</style>\n",
       "<table border=\"1\" class=\"dataframe\">\n",
       "  <thead>\n",
       "    <tr style=\"text-align: right;\">\n",
       "      <th></th>\n",
       "      <th>id</th>\n",
       "      <th>age</th>\n",
       "      <th>gender</th>\n",
       "      <th>height</th>\n",
       "      <th>weight</th>\n",
       "      <th>ap_hi</th>\n",
       "      <th>ap_lo</th>\n",
       "      <th>cholesterol</th>\n",
       "      <th>gluc</th>\n",
       "      <th>smoke</th>\n",
       "      <th>alco</th>\n",
       "      <th>active</th>\n",
       "      <th>cardio</th>\n",
       "    </tr>\n",
       "  </thead>\n",
       "  <tbody>\n",
       "    <tr>\n",
       "      <th>4607</th>\n",
       "      <td>6525</td>\n",
       "      <td>41.865753</td>\n",
       "      <td>1</td>\n",
       "      <td>165</td>\n",
       "      <td>78.0</td>\n",
       "      <td>-100</td>\n",
       "      <td>80</td>\n",
       "      <td>2</td>\n",
       "      <td>1</td>\n",
       "      <td>0</td>\n",
       "      <td>0</td>\n",
       "      <td>1</td>\n",
       "      <td>0</td>\n",
       "    </tr>\n",
       "    <tr>\n",
       "      <th>16021</th>\n",
       "      <td>22881</td>\n",
       "      <td>60.569863</td>\n",
       "      <td>2</td>\n",
       "      <td>161</td>\n",
       "      <td>90.0</td>\n",
       "      <td>-115</td>\n",
       "      <td>70</td>\n",
       "      <td>1</td>\n",
       "      <td>1</td>\n",
       "      <td>0</td>\n",
       "      <td>0</td>\n",
       "      <td>1</td>\n",
       "      <td>0</td>\n",
       "    </tr>\n",
       "    <tr>\n",
       "      <th>20536</th>\n",
       "      <td>29313</td>\n",
       "      <td>42.687671</td>\n",
       "      <td>1</td>\n",
       "      <td>153</td>\n",
       "      <td>54.0</td>\n",
       "      <td>-100</td>\n",
       "      <td>70</td>\n",
       "      <td>1</td>\n",
       "      <td>1</td>\n",
       "      <td>0</td>\n",
       "      <td>0</td>\n",
       "      <td>1</td>\n",
       "      <td>0</td>\n",
       "    </tr>\n",
       "    <tr>\n",
       "      <th>23988</th>\n",
       "      <td>34295</td>\n",
       "      <td>50.139726</td>\n",
       "      <td>1</td>\n",
       "      <td>162</td>\n",
       "      <td>74.0</td>\n",
       "      <td>-140</td>\n",
       "      <td>90</td>\n",
       "      <td>1</td>\n",
       "      <td>1</td>\n",
       "      <td>0</td>\n",
       "      <td>0</td>\n",
       "      <td>1</td>\n",
       "      <td>1</td>\n",
       "    </tr>\n",
       "    <tr>\n",
       "      <th>25240</th>\n",
       "      <td>36025</td>\n",
       "      <td>40.304110</td>\n",
       "      <td>2</td>\n",
       "      <td>168</td>\n",
       "      <td>50.0</td>\n",
       "      <td>-120</td>\n",
       "      <td>80</td>\n",
       "      <td>2</td>\n",
       "      <td>1</td>\n",
       "      <td>0</td>\n",
       "      <td>0</td>\n",
       "      <td>0</td>\n",
       "      <td>1</td>\n",
       "    </tr>\n",
       "    <tr>\n",
       "      <th>35040</th>\n",
       "      <td>50055</td>\n",
       "      <td>63.904110</td>\n",
       "      <td>2</td>\n",
       "      <td>168</td>\n",
       "      <td>59.0</td>\n",
       "      <td>-150</td>\n",
       "      <td>80</td>\n",
       "      <td>1</td>\n",
       "      <td>1</td>\n",
       "      <td>0</td>\n",
       "      <td>0</td>\n",
       "      <td>1</td>\n",
       "      <td>1</td>\n",
       "    </tr>\n",
       "    <tr>\n",
       "      <th>46627</th>\n",
       "      <td>66571</td>\n",
       "      <td>64.783562</td>\n",
       "      <td>2</td>\n",
       "      <td>160</td>\n",
       "      <td>59.0</td>\n",
       "      <td>-120</td>\n",
       "      <td>80</td>\n",
       "      <td>1</td>\n",
       "      <td>1</td>\n",
       "      <td>0</td>\n",
       "      <td>0</td>\n",
       "      <td>0</td>\n",
       "      <td>0</td>\n",
       "    </tr>\n",
       "  </tbody>\n",
       "</table>\n",
       "</div>"
      ],
      "text/plain": [
       "          id        age  gender  height  weight  ap_hi  ap_lo  cholesterol  \\\n",
       "4607    6525  41.865753       1     165    78.0   -100     80            2   \n",
       "16021  22881  60.569863       2     161    90.0   -115     70            1   \n",
       "20536  29313  42.687671       1     153    54.0   -100     70            1   \n",
       "23988  34295  50.139726       1     162    74.0   -140     90            1   \n",
       "25240  36025  40.304110       2     168    50.0   -120     80            2   \n",
       "35040  50055  63.904110       2     168    59.0   -150     80            1   \n",
       "46627  66571  64.783562       2     160    59.0   -120     80            1   \n",
       "\n",
       "       gluc  smoke  alco  active  cardio  \n",
       "4607      1      0     0       1       0  \n",
       "16021     1      0     0       1       0  \n",
       "20536     1      0     0       1       0  \n",
       "23988     1      0     0       1       1  \n",
       "25240     1      0     0       0       1  \n",
       "35040     1      0     0       1       1  \n",
       "46627     1      0     0       0       0  "
      ]
     },
     "execution_count": 5,
     "metadata": {},
     "output_type": "execute_result"
    }
   ],
   "source": [
    "data[data['ap_hi']<0]"
   ]
  },
  {
   "cell_type": "markdown",
   "metadata": {
    "papermill": {
     "duration": 0.021933,
     "end_time": "2021-02-10T13:15:02.422909",
     "exception": false,
     "start_time": "2021-02-10T13:15:02.400976",
     "status": "completed"
    },
    "tags": []
   },
   "source": [
    "it would make sense if the negative values are all transcription errors since all values are in range of acceptable pressures except for the signal. We can just convert these negative values to positive and keep in the dataset. The same can be said for the ap_lo since:"
   ]
  },
  {
   "cell_type": "code",
   "execution_count": 6,
   "metadata": {
    "execution": {
     "iopub.execute_input": "2021-02-10T13:15:02.474569Z",
     "iopub.status.busy": "2021-02-10T13:15:02.473377Z",
     "iopub.status.idle": "2021-02-10T13:15:02.492591Z",
     "shell.execute_reply": "2021-02-10T13:15:02.493151Z"
    },
    "papermill": {
     "duration": 0.047436,
     "end_time": "2021-02-10T13:15:02.493385",
     "exception": false,
     "start_time": "2021-02-10T13:15:02.445949",
     "status": "completed"
    },
    "tags": []
   },
   "outputs": [
    {
     "data": {
      "text/html": [
       "<div>\n",
       "<style scoped>\n",
       "    .dataframe tbody tr th:only-of-type {\n",
       "        vertical-align: middle;\n",
       "    }\n",
       "\n",
       "    .dataframe tbody tr th {\n",
       "        vertical-align: top;\n",
       "    }\n",
       "\n",
       "    .dataframe thead th {\n",
       "        text-align: right;\n",
       "    }\n",
       "</style>\n",
       "<table border=\"1\" class=\"dataframe\">\n",
       "  <thead>\n",
       "    <tr style=\"text-align: right;\">\n",
       "      <th></th>\n",
       "      <th>id</th>\n",
       "      <th>age</th>\n",
       "      <th>gender</th>\n",
       "      <th>height</th>\n",
       "      <th>weight</th>\n",
       "      <th>ap_hi</th>\n",
       "      <th>ap_lo</th>\n",
       "      <th>cholesterol</th>\n",
       "      <th>gluc</th>\n",
       "      <th>smoke</th>\n",
       "      <th>alco</th>\n",
       "      <th>active</th>\n",
       "      <th>cardio</th>\n",
       "    </tr>\n",
       "  </thead>\n",
       "  <tbody>\n",
       "    <tr>\n",
       "      <th>60106</th>\n",
       "      <td>85816</td>\n",
       "      <td>61.838356</td>\n",
       "      <td>1</td>\n",
       "      <td>167</td>\n",
       "      <td>74.0</td>\n",
       "      <td>15</td>\n",
       "      <td>-70</td>\n",
       "      <td>1</td>\n",
       "      <td>1</td>\n",
       "      <td>0</td>\n",
       "      <td>0</td>\n",
       "      <td>1</td>\n",
       "      <td>1</td>\n",
       "    </tr>\n",
       "  </tbody>\n",
       "</table>\n",
       "</div>"
      ],
      "text/plain": [
       "          id        age  gender  height  weight  ap_hi  ap_lo  cholesterol  \\\n",
       "60106  85816  61.838356       1     167    74.0     15    -70            1   \n",
       "\n",
       "       gluc  smoke  alco  active  cardio  \n",
       "60106     1      0     0       1       1  "
      ]
     },
     "execution_count": 6,
     "metadata": {},
     "output_type": "execute_result"
    }
   ],
   "source": [
    "data[data['ap_lo']<0]"
   ]
  },
  {
   "cell_type": "code",
   "execution_count": 7,
   "metadata": {
    "execution": {
     "iopub.execute_input": "2021-02-10T13:15:02.544053Z",
     "iopub.status.busy": "2021-02-10T13:15:02.543327Z",
     "iopub.status.idle": "2021-02-10T13:15:02.625357Z",
     "shell.execute_reply": "2021-02-10T13:15:02.624776Z"
    },
    "papermill": {
     "duration": 0.110085,
     "end_time": "2021-02-10T13:15:02.625503",
     "exception": false,
     "start_time": "2021-02-10T13:15:02.515418",
     "status": "completed"
    },
    "tags": []
   },
   "outputs": [
    {
     "data": {
      "text/html": [
       "<div>\n",
       "<style scoped>\n",
       "    .dataframe tbody tr th:only-of-type {\n",
       "        vertical-align: middle;\n",
       "    }\n",
       "\n",
       "    .dataframe tbody tr th {\n",
       "        vertical-align: top;\n",
       "    }\n",
       "\n",
       "    .dataframe thead th {\n",
       "        text-align: right;\n",
       "    }\n",
       "</style>\n",
       "<table border=\"1\" class=\"dataframe\">\n",
       "  <thead>\n",
       "    <tr style=\"text-align: right;\">\n",
       "      <th></th>\n",
       "      <th>id</th>\n",
       "      <th>age</th>\n",
       "      <th>gender</th>\n",
       "      <th>height</th>\n",
       "      <th>weight</th>\n",
       "      <th>ap_hi</th>\n",
       "      <th>ap_lo</th>\n",
       "      <th>cholesterol</th>\n",
       "      <th>gluc</th>\n",
       "      <th>smoke</th>\n",
       "      <th>alco</th>\n",
       "      <th>active</th>\n",
       "      <th>cardio</th>\n",
       "    </tr>\n",
       "  </thead>\n",
       "  <tbody>\n",
       "    <tr>\n",
       "      <th>count</th>\n",
       "      <td>70000.000000</td>\n",
       "      <td>70000.000000</td>\n",
       "      <td>70000.000000</td>\n",
       "      <td>70000.000000</td>\n",
       "      <td>70000.000000</td>\n",
       "      <td>70000.000000</td>\n",
       "      <td>70000.000000</td>\n",
       "      <td>70000.000000</td>\n",
       "      <td>70000.000000</td>\n",
       "      <td>70000.000000</td>\n",
       "      <td>70000.000000</td>\n",
       "      <td>70000.000000</td>\n",
       "      <td>70000.000000</td>\n",
       "    </tr>\n",
       "    <tr>\n",
       "      <th>mean</th>\n",
       "      <td>49972.419900</td>\n",
       "      <td>53.339358</td>\n",
       "      <td>1.349571</td>\n",
       "      <td>164.359229</td>\n",
       "      <td>74.205690</td>\n",
       "      <td>128.841429</td>\n",
       "      <td>96.632414</td>\n",
       "      <td>1.366871</td>\n",
       "      <td>1.226457</td>\n",
       "      <td>0.088129</td>\n",
       "      <td>0.053771</td>\n",
       "      <td>0.803729</td>\n",
       "      <td>0.499700</td>\n",
       "    </tr>\n",
       "    <tr>\n",
       "      <th>std</th>\n",
       "      <td>28851.302323</td>\n",
       "      <td>6.759594</td>\n",
       "      <td>0.476838</td>\n",
       "      <td>8.210126</td>\n",
       "      <td>14.395757</td>\n",
       "      <td>153.991223</td>\n",
       "      <td>188.471505</td>\n",
       "      <td>0.680250</td>\n",
       "      <td>0.572270</td>\n",
       "      <td>0.283484</td>\n",
       "      <td>0.225568</td>\n",
       "      <td>0.397179</td>\n",
       "      <td>0.500003</td>\n",
       "    </tr>\n",
       "    <tr>\n",
       "      <th>min</th>\n",
       "      <td>0.000000</td>\n",
       "      <td>29.583562</td>\n",
       "      <td>1.000000</td>\n",
       "      <td>55.000000</td>\n",
       "      <td>10.000000</td>\n",
       "      <td>1.000000</td>\n",
       "      <td>0.000000</td>\n",
       "      <td>1.000000</td>\n",
       "      <td>1.000000</td>\n",
       "      <td>0.000000</td>\n",
       "      <td>0.000000</td>\n",
       "      <td>0.000000</td>\n",
       "      <td>0.000000</td>\n",
       "    </tr>\n",
       "    <tr>\n",
       "      <th>25%</th>\n",
       "      <td>25006.750000</td>\n",
       "      <td>48.394521</td>\n",
       "      <td>1.000000</td>\n",
       "      <td>159.000000</td>\n",
       "      <td>65.000000</td>\n",
       "      <td>120.000000</td>\n",
       "      <td>80.000000</td>\n",
       "      <td>1.000000</td>\n",
       "      <td>1.000000</td>\n",
       "      <td>0.000000</td>\n",
       "      <td>0.000000</td>\n",
       "      <td>1.000000</td>\n",
       "      <td>0.000000</td>\n",
       "    </tr>\n",
       "    <tr>\n",
       "      <th>50%</th>\n",
       "      <td>50001.500000</td>\n",
       "      <td>53.980822</td>\n",
       "      <td>1.000000</td>\n",
       "      <td>165.000000</td>\n",
       "      <td>72.000000</td>\n",
       "      <td>120.000000</td>\n",
       "      <td>80.000000</td>\n",
       "      <td>1.000000</td>\n",
       "      <td>1.000000</td>\n",
       "      <td>0.000000</td>\n",
       "      <td>0.000000</td>\n",
       "      <td>1.000000</td>\n",
       "      <td>0.000000</td>\n",
       "    </tr>\n",
       "    <tr>\n",
       "      <th>75%</th>\n",
       "      <td>74889.250000</td>\n",
       "      <td>58.430137</td>\n",
       "      <td>2.000000</td>\n",
       "      <td>170.000000</td>\n",
       "      <td>82.000000</td>\n",
       "      <td>140.000000</td>\n",
       "      <td>90.000000</td>\n",
       "      <td>2.000000</td>\n",
       "      <td>1.000000</td>\n",
       "      <td>0.000000</td>\n",
       "      <td>0.000000</td>\n",
       "      <td>1.000000</td>\n",
       "      <td>1.000000</td>\n",
       "    </tr>\n",
       "    <tr>\n",
       "      <th>max</th>\n",
       "      <td>99999.000000</td>\n",
       "      <td>64.967123</td>\n",
       "      <td>2.000000</td>\n",
       "      <td>250.000000</td>\n",
       "      <td>200.000000</td>\n",
       "      <td>16020.000000</td>\n",
       "      <td>11000.000000</td>\n",
       "      <td>3.000000</td>\n",
       "      <td>3.000000</td>\n",
       "      <td>1.000000</td>\n",
       "      <td>1.000000</td>\n",
       "      <td>1.000000</td>\n",
       "      <td>1.000000</td>\n",
       "    </tr>\n",
       "  </tbody>\n",
       "</table>\n",
       "</div>"
      ],
      "text/plain": [
       "                 id           age        gender        height        weight  \\\n",
       "count  70000.000000  70000.000000  70000.000000  70000.000000  70000.000000   \n",
       "mean   49972.419900     53.339358      1.349571    164.359229     74.205690   \n",
       "std    28851.302323      6.759594      0.476838      8.210126     14.395757   \n",
       "min        0.000000     29.583562      1.000000     55.000000     10.000000   \n",
       "25%    25006.750000     48.394521      1.000000    159.000000     65.000000   \n",
       "50%    50001.500000     53.980822      1.000000    165.000000     72.000000   \n",
       "75%    74889.250000     58.430137      2.000000    170.000000     82.000000   \n",
       "max    99999.000000     64.967123      2.000000    250.000000    200.000000   \n",
       "\n",
       "              ap_hi         ap_lo   cholesterol          gluc         smoke  \\\n",
       "count  70000.000000  70000.000000  70000.000000  70000.000000  70000.000000   \n",
       "mean     128.841429     96.632414      1.366871      1.226457      0.088129   \n",
       "std      153.991223    188.471505      0.680250      0.572270      0.283484   \n",
       "min        1.000000      0.000000      1.000000      1.000000      0.000000   \n",
       "25%      120.000000     80.000000      1.000000      1.000000      0.000000   \n",
       "50%      120.000000     80.000000      1.000000      1.000000      0.000000   \n",
       "75%      140.000000     90.000000      2.000000      1.000000      0.000000   \n",
       "max    16020.000000  11000.000000      3.000000      3.000000      1.000000   \n",
       "\n",
       "               alco        active        cardio  \n",
       "count  70000.000000  70000.000000  70000.000000  \n",
       "mean       0.053771      0.803729      0.499700  \n",
       "std        0.225568      0.397179      0.500003  \n",
       "min        0.000000      0.000000      0.000000  \n",
       "25%        0.000000      1.000000      0.000000  \n",
       "50%        0.000000      1.000000      0.000000  \n",
       "75%        0.000000      1.000000      1.000000  \n",
       "max        1.000000      1.000000      1.000000  "
      ]
     },
     "execution_count": 7,
     "metadata": {},
     "output_type": "execute_result"
    }
   ],
   "source": [
    "data['ap_lo']=data['ap_lo'].abs()\n",
    "data['ap_hi']=data['ap_hi'].abs()\n",
    "data.describe()"
   ]
  },
  {
   "cell_type": "markdown",
   "metadata": {
    "papermill": {
     "duration": 0.022091,
     "end_time": "2021-02-10T13:15:02.670382",
     "exception": false,
     "start_time": "2021-02-10T13:15:02.648291",
     "status": "completed"
    },
    "tags": []
   },
   "source": [
    "Lets define the values acceptable for the pressures:\n",
    "* ap_hi have to be 10<ap_hi<220 \n",
    "* ap_lo tave to be 10<ap_lo<190"
   ]
  },
  {
   "cell_type": "code",
   "execution_count": 8,
   "metadata": {
    "execution": {
     "iopub.execute_input": "2021-02-10T13:15:02.724726Z",
     "iopub.status.busy": "2021-02-10T13:15:02.723927Z",
     "iopub.status.idle": "2021-02-10T13:15:02.828037Z",
     "shell.execute_reply": "2021-02-10T13:15:02.827241Z"
    },
    "papermill": {
     "duration": 0.135237,
     "end_time": "2021-02-10T13:15:02.828214",
     "exception": false,
     "start_time": "2021-02-10T13:15:02.692977",
     "status": "completed"
    },
    "tags": []
   },
   "outputs": [
    {
     "data": {
      "text/html": [
       "<div>\n",
       "<style scoped>\n",
       "    .dataframe tbody tr th:only-of-type {\n",
       "        vertical-align: middle;\n",
       "    }\n",
       "\n",
       "    .dataframe tbody tr th {\n",
       "        vertical-align: top;\n",
       "    }\n",
       "\n",
       "    .dataframe thead th {\n",
       "        text-align: right;\n",
       "    }\n",
       "</style>\n",
       "<table border=\"1\" class=\"dataframe\">\n",
       "  <thead>\n",
       "    <tr style=\"text-align: right;\">\n",
       "      <th></th>\n",
       "      <th>id</th>\n",
       "      <th>age</th>\n",
       "      <th>gender</th>\n",
       "      <th>height</th>\n",
       "      <th>weight</th>\n",
       "      <th>ap_hi</th>\n",
       "      <th>ap_lo</th>\n",
       "      <th>cholesterol</th>\n",
       "      <th>gluc</th>\n",
       "      <th>smoke</th>\n",
       "      <th>alco</th>\n",
       "      <th>active</th>\n",
       "      <th>cardio</th>\n",
       "    </tr>\n",
       "  </thead>\n",
       "  <tbody>\n",
       "    <tr>\n",
       "      <th>count</th>\n",
       "      <td>68940.000000</td>\n",
       "      <td>68940.000000</td>\n",
       "      <td>68940.000000</td>\n",
       "      <td>68940.000000</td>\n",
       "      <td>68940.000000</td>\n",
       "      <td>68940.000000</td>\n",
       "      <td>68940.000000</td>\n",
       "      <td>68940.000000</td>\n",
       "      <td>68940.000000</td>\n",
       "      <td>68940.000000</td>\n",
       "      <td>68940.000000</td>\n",
       "      <td>68940.000000</td>\n",
       "      <td>68940.000000</td>\n",
       "    </tr>\n",
       "    <tr>\n",
       "      <th>mean</th>\n",
       "      <td>49965.326487</td>\n",
       "      <td>53.324786</td>\n",
       "      <td>1.348680</td>\n",
       "      <td>164.361082</td>\n",
       "      <td>74.114295</td>\n",
       "      <td>126.296620</td>\n",
       "      <td>81.347418</td>\n",
       "      <td>1.364114</td>\n",
       "      <td>1.225834</td>\n",
       "      <td>0.087888</td>\n",
       "      <td>0.053583</td>\n",
       "      <td>0.803278</td>\n",
       "      <td>0.494836</td>\n",
       "    </tr>\n",
       "    <tr>\n",
       "      <th>std</th>\n",
       "      <td>28846.913585</td>\n",
       "      <td>6.762535</td>\n",
       "      <td>0.476556</td>\n",
       "      <td>8.195723</td>\n",
       "      <td>14.322016</td>\n",
       "      <td>17.542778</td>\n",
       "      <td>9.692376</td>\n",
       "      <td>0.678469</td>\n",
       "      <td>0.571788</td>\n",
       "      <td>0.283134</td>\n",
       "      <td>0.225194</td>\n",
       "      <td>0.397523</td>\n",
       "      <td>0.499977</td>\n",
       "    </tr>\n",
       "    <tr>\n",
       "      <th>min</th>\n",
       "      <td>0.000000</td>\n",
       "      <td>29.583562</td>\n",
       "      <td>1.000000</td>\n",
       "      <td>55.000000</td>\n",
       "      <td>11.000000</td>\n",
       "      <td>11.000000</td>\n",
       "      <td>15.000000</td>\n",
       "      <td>1.000000</td>\n",
       "      <td>1.000000</td>\n",
       "      <td>0.000000</td>\n",
       "      <td>0.000000</td>\n",
       "      <td>0.000000</td>\n",
       "      <td>0.000000</td>\n",
       "    </tr>\n",
       "    <tr>\n",
       "      <th>25%</th>\n",
       "      <td>24993.750000</td>\n",
       "      <td>48.372603</td>\n",
       "      <td>1.000000</td>\n",
       "      <td>159.000000</td>\n",
       "      <td>65.000000</td>\n",
       "      <td>120.000000</td>\n",
       "      <td>80.000000</td>\n",
       "      <td>1.000000</td>\n",
       "      <td>1.000000</td>\n",
       "      <td>0.000000</td>\n",
       "      <td>0.000000</td>\n",
       "      <td>1.000000</td>\n",
       "      <td>0.000000</td>\n",
       "    </tr>\n",
       "    <tr>\n",
       "      <th>50%</th>\n",
       "      <td>50003.000000</td>\n",
       "      <td>53.972603</td>\n",
       "      <td>1.000000</td>\n",
       "      <td>165.000000</td>\n",
       "      <td>72.000000</td>\n",
       "      <td>120.000000</td>\n",
       "      <td>80.000000</td>\n",
       "      <td>1.000000</td>\n",
       "      <td>1.000000</td>\n",
       "      <td>0.000000</td>\n",
       "      <td>0.000000</td>\n",
       "      <td>1.000000</td>\n",
       "      <td>0.000000</td>\n",
       "    </tr>\n",
       "    <tr>\n",
       "      <th>75%</th>\n",
       "      <td>74860.250000</td>\n",
       "      <td>58.419178</td>\n",
       "      <td>2.000000</td>\n",
       "      <td>170.000000</td>\n",
       "      <td>82.000000</td>\n",
       "      <td>140.000000</td>\n",
       "      <td>90.000000</td>\n",
       "      <td>1.000000</td>\n",
       "      <td>1.000000</td>\n",
       "      <td>0.000000</td>\n",
       "      <td>0.000000</td>\n",
       "      <td>1.000000</td>\n",
       "      <td>1.000000</td>\n",
       "    </tr>\n",
       "    <tr>\n",
       "      <th>max</th>\n",
       "      <td>99999.000000</td>\n",
       "      <td>64.967123</td>\n",
       "      <td>2.000000</td>\n",
       "      <td>250.000000</td>\n",
       "      <td>200.000000</td>\n",
       "      <td>215.000000</td>\n",
       "      <td>182.000000</td>\n",
       "      <td>3.000000</td>\n",
       "      <td>3.000000</td>\n",
       "      <td>1.000000</td>\n",
       "      <td>1.000000</td>\n",
       "      <td>1.000000</td>\n",
       "      <td>1.000000</td>\n",
       "    </tr>\n",
       "  </tbody>\n",
       "</table>\n",
       "</div>"
      ],
      "text/plain": [
       "                 id           age        gender        height        weight  \\\n",
       "count  68940.000000  68940.000000  68940.000000  68940.000000  68940.000000   \n",
       "mean   49965.326487     53.324786      1.348680    164.361082     74.114295   \n",
       "std    28846.913585      6.762535      0.476556      8.195723     14.322016   \n",
       "min        0.000000     29.583562      1.000000     55.000000     11.000000   \n",
       "25%    24993.750000     48.372603      1.000000    159.000000     65.000000   \n",
       "50%    50003.000000     53.972603      1.000000    165.000000     72.000000   \n",
       "75%    74860.250000     58.419178      2.000000    170.000000     82.000000   \n",
       "max    99999.000000     64.967123      2.000000    250.000000    200.000000   \n",
       "\n",
       "              ap_hi         ap_lo   cholesterol          gluc         smoke  \\\n",
       "count  68940.000000  68940.000000  68940.000000  68940.000000  68940.000000   \n",
       "mean     126.296620     81.347418      1.364114      1.225834      0.087888   \n",
       "std       17.542778      9.692376      0.678469      0.571788      0.283134   \n",
       "min       11.000000     15.000000      1.000000      1.000000      0.000000   \n",
       "25%      120.000000     80.000000      1.000000      1.000000      0.000000   \n",
       "50%      120.000000     80.000000      1.000000      1.000000      0.000000   \n",
       "75%      140.000000     90.000000      1.000000      1.000000      0.000000   \n",
       "max      215.000000    182.000000      3.000000      3.000000      1.000000   \n",
       "\n",
       "               alco        active        cardio  \n",
       "count  68940.000000  68940.000000  68940.000000  \n",
       "mean       0.053583      0.803278      0.494836  \n",
       "std        0.225194      0.397523      0.499977  \n",
       "min        0.000000      0.000000      0.000000  \n",
       "25%        0.000000      1.000000      0.000000  \n",
       "50%        0.000000      1.000000      0.000000  \n",
       "75%        0.000000      1.000000      1.000000  \n",
       "max        1.000000      1.000000      1.000000  "
      ]
     },
     "execution_count": 8,
     "metadata": {},
     "output_type": "execute_result"
    }
   ],
   "source": [
    "data = data.loc[data['ap_lo']>10]\n",
    "data = data.loc[data['ap_lo']<190]\n",
    "data = data.loc[data['ap_hi']>10]\n",
    "data = data.loc[data['ap_hi']<220]\n",
    "data.describe()"
   ]
  },
  {
   "cell_type": "markdown",
   "metadata": {
    "papermill": {
     "duration": 0.022956,
     "end_time": "2021-02-10T13:15:02.874409",
     "exception": false,
     "start_time": "2021-02-10T13:15:02.851453",
     "status": "completed"
    },
    "tags": []
   },
   "source": [
    "We gave up little bit over a thousand values. Now we adjust the weight and drop the 'id' column."
   ]
  },
  {
   "cell_type": "code",
   "execution_count": 9,
   "metadata": {
    "execution": {
     "iopub.execute_input": "2021-02-10T13:15:02.928148Z",
     "iopub.status.busy": "2021-02-10T13:15:02.927409Z",
     "iopub.status.idle": "2021-02-10T13:15:03.014195Z",
     "shell.execute_reply": "2021-02-10T13:15:03.013592Z"
    },
    "papermill": {
     "duration": 0.116959,
     "end_time": "2021-02-10T13:15:03.014362",
     "exception": false,
     "start_time": "2021-02-10T13:15:02.897403",
     "status": "completed"
    },
    "tags": []
   },
   "outputs": [
    {
     "data": {
      "text/html": [
       "<div>\n",
       "<style scoped>\n",
       "    .dataframe tbody tr th:only-of-type {\n",
       "        vertical-align: middle;\n",
       "    }\n",
       "\n",
       "    .dataframe tbody tr th {\n",
       "        vertical-align: top;\n",
       "    }\n",
       "\n",
       "    .dataframe thead th {\n",
       "        text-align: right;\n",
       "    }\n",
       "</style>\n",
       "<table border=\"1\" class=\"dataframe\">\n",
       "  <thead>\n",
       "    <tr style=\"text-align: right;\">\n",
       "      <th></th>\n",
       "      <th>age</th>\n",
       "      <th>gender</th>\n",
       "      <th>height</th>\n",
       "      <th>weight</th>\n",
       "      <th>ap_hi</th>\n",
       "      <th>ap_lo</th>\n",
       "      <th>cholesterol</th>\n",
       "      <th>gluc</th>\n",
       "      <th>smoke</th>\n",
       "      <th>alco</th>\n",
       "      <th>active</th>\n",
       "      <th>cardio</th>\n",
       "    </tr>\n",
       "  </thead>\n",
       "  <tbody>\n",
       "    <tr>\n",
       "      <th>count</th>\n",
       "      <td>68931.000000</td>\n",
       "      <td>68931.000000</td>\n",
       "      <td>68931.000000</td>\n",
       "      <td>68931.000000</td>\n",
       "      <td>68931.000000</td>\n",
       "      <td>68931.000000</td>\n",
       "      <td>68931.000000</td>\n",
       "      <td>68931.000000</td>\n",
       "      <td>68931.000000</td>\n",
       "      <td>68931.000000</td>\n",
       "      <td>68931.000000</td>\n",
       "      <td>68931.000000</td>\n",
       "    </tr>\n",
       "    <tr>\n",
       "      <th>mean</th>\n",
       "      <td>53.324771</td>\n",
       "      <td>1.348682</td>\n",
       "      <td>164.362290</td>\n",
       "      <td>74.120722</td>\n",
       "      <td>126.297979</td>\n",
       "      <td>81.348015</td>\n",
       "      <td>1.364118</td>\n",
       "      <td>1.225864</td>\n",
       "      <td>0.087885</td>\n",
       "      <td>0.053575</td>\n",
       "      <td>0.803253</td>\n",
       "      <td>0.494843</td>\n",
       "    </tr>\n",
       "    <tr>\n",
       "      <th>std</th>\n",
       "      <td>6.762407</td>\n",
       "      <td>0.476557</td>\n",
       "      <td>8.192527</td>\n",
       "      <td>14.311736</td>\n",
       "      <td>17.543298</td>\n",
       "      <td>9.692443</td>\n",
       "      <td>0.678492</td>\n",
       "      <td>0.571819</td>\n",
       "      <td>0.283130</td>\n",
       "      <td>0.225179</td>\n",
       "      <td>0.397543</td>\n",
       "      <td>0.499977</td>\n",
       "    </tr>\n",
       "    <tr>\n",
       "      <th>min</th>\n",
       "      <td>29.583562</td>\n",
       "      <td>1.000000</td>\n",
       "      <td>55.000000</td>\n",
       "      <td>31.000000</td>\n",
       "      <td>11.000000</td>\n",
       "      <td>15.000000</td>\n",
       "      <td>1.000000</td>\n",
       "      <td>1.000000</td>\n",
       "      <td>0.000000</td>\n",
       "      <td>0.000000</td>\n",
       "      <td>0.000000</td>\n",
       "      <td>0.000000</td>\n",
       "    </tr>\n",
       "    <tr>\n",
       "      <th>25%</th>\n",
       "      <td>48.372603</td>\n",
       "      <td>1.000000</td>\n",
       "      <td>159.000000</td>\n",
       "      <td>65.000000</td>\n",
       "      <td>120.000000</td>\n",
       "      <td>80.000000</td>\n",
       "      <td>1.000000</td>\n",
       "      <td>1.000000</td>\n",
       "      <td>0.000000</td>\n",
       "      <td>0.000000</td>\n",
       "      <td>1.000000</td>\n",
       "      <td>0.000000</td>\n",
       "    </tr>\n",
       "    <tr>\n",
       "      <th>50%</th>\n",
       "      <td>53.972603</td>\n",
       "      <td>1.000000</td>\n",
       "      <td>165.000000</td>\n",
       "      <td>72.000000</td>\n",
       "      <td>120.000000</td>\n",
       "      <td>80.000000</td>\n",
       "      <td>1.000000</td>\n",
       "      <td>1.000000</td>\n",
       "      <td>0.000000</td>\n",
       "      <td>0.000000</td>\n",
       "      <td>1.000000</td>\n",
       "      <td>0.000000</td>\n",
       "    </tr>\n",
       "    <tr>\n",
       "      <th>75%</th>\n",
       "      <td>58.419178</td>\n",
       "      <td>2.000000</td>\n",
       "      <td>170.000000</td>\n",
       "      <td>82.000000</td>\n",
       "      <td>140.000000</td>\n",
       "      <td>90.000000</td>\n",
       "      <td>1.000000</td>\n",
       "      <td>1.000000</td>\n",
       "      <td>0.000000</td>\n",
       "      <td>0.000000</td>\n",
       "      <td>1.000000</td>\n",
       "      <td>1.000000</td>\n",
       "    </tr>\n",
       "    <tr>\n",
       "      <th>max</th>\n",
       "      <td>64.967123</td>\n",
       "      <td>2.000000</td>\n",
       "      <td>250.000000</td>\n",
       "      <td>200.000000</td>\n",
       "      <td>215.000000</td>\n",
       "      <td>182.000000</td>\n",
       "      <td>3.000000</td>\n",
       "      <td>3.000000</td>\n",
       "      <td>1.000000</td>\n",
       "      <td>1.000000</td>\n",
       "      <td>1.000000</td>\n",
       "      <td>1.000000</td>\n",
       "    </tr>\n",
       "  </tbody>\n",
       "</table>\n",
       "</div>"
      ],
      "text/plain": [
       "                age        gender        height        weight         ap_hi  \\\n",
       "count  68931.000000  68931.000000  68931.000000  68931.000000  68931.000000   \n",
       "mean      53.324771      1.348682    164.362290     74.120722    126.297979   \n",
       "std        6.762407      0.476557      8.192527     14.311736     17.543298   \n",
       "min       29.583562      1.000000     55.000000     31.000000     11.000000   \n",
       "25%       48.372603      1.000000    159.000000     65.000000    120.000000   \n",
       "50%       53.972603      1.000000    165.000000     72.000000    120.000000   \n",
       "75%       58.419178      2.000000    170.000000     82.000000    140.000000   \n",
       "max       64.967123      2.000000    250.000000    200.000000    215.000000   \n",
       "\n",
       "              ap_lo   cholesterol          gluc         smoke          alco  \\\n",
       "count  68931.000000  68931.000000  68931.000000  68931.000000  68931.000000   \n",
       "mean      81.348015      1.364118      1.225864      0.087885      0.053575   \n",
       "std        9.692443      0.678492      0.571819      0.283130      0.225179   \n",
       "min       15.000000      1.000000      1.000000      0.000000      0.000000   \n",
       "25%       80.000000      1.000000      1.000000      0.000000      0.000000   \n",
       "50%       80.000000      1.000000      1.000000      0.000000      0.000000   \n",
       "75%       90.000000      1.000000      1.000000      0.000000      0.000000   \n",
       "max      182.000000      3.000000      3.000000      1.000000      1.000000   \n",
       "\n",
       "             active        cardio  \n",
       "count  68931.000000  68931.000000  \n",
       "mean       0.803253      0.494843  \n",
       "std        0.397543      0.499977  \n",
       "min        0.000000      0.000000  \n",
       "25%        1.000000      0.000000  \n",
       "50%        1.000000      0.000000  \n",
       "75%        1.000000      1.000000  \n",
       "max        1.000000      1.000000  "
      ]
     },
     "execution_count": 9,
     "metadata": {},
     "output_type": "execute_result"
    }
   ],
   "source": [
    "data = data.loc[data['weight']>30]\n",
    "data=data.drop(columns='id')\n",
    "data.describe()"
   ]
  },
  {
   "cell_type": "markdown",
   "metadata": {
    "papermill": {
     "duration": 0.023471,
     "end_time": "2021-02-10T13:15:03.061822",
     "exception": false,
     "start_time": "2021-02-10T13:15:03.038351",
     "status": "completed"
    },
    "tags": []
   },
   "source": [
    "# Exploratory data analysis\n",
    "Now we need to look for diferences between populations. First lets see if anything changes between men and women."
   ]
  },
  {
   "cell_type": "code",
   "execution_count": 10,
   "metadata": {
    "execution": {
     "iopub.execute_input": "2021-02-10T13:15:03.126159Z",
     "iopub.status.busy": "2021-02-10T13:15:03.125263Z",
     "iopub.status.idle": "2021-02-10T13:15:04.097418Z",
     "shell.execute_reply": "2021-02-10T13:15:04.096815Z"
    },
    "papermill": {
     "duration": 1.010886,
     "end_time": "2021-02-10T13:15:04.097571",
     "exception": false,
     "start_time": "2021-02-10T13:15:03.086685",
     "status": "completed"
    },
    "tags": []
   },
   "outputs": [
    {
     "data": {
      "text/plain": [
       "Text(0.5, 1.0, 'smoke')"
      ]
     },
     "execution_count": 10,
     "metadata": {},
     "output_type": "execute_result"
    },
    {
     "data": {
      "image/png": "[encoded data removed]",
      "text/plain": [
       "<Figure size 720x720 with 4 Axes>"
      ]
     },
     "metadata": {
      "needs_background": "light"
     },
     "output_type": "display_data"
    }
   ],
   "source": [
    "datam = data[data['gender']==2]\n",
    "dataw = data[data['gender']==1]\n",
    "\n",
    "\n",
    "fig, axs = plt.subplots(2, 2,figsize=(10,10))\n",
    "axs[0, 0].hist(dataw['age'], bins=15,alpha=0.5,color='blue')\n",
    "axs[0, 0].hist(datam['age'], bins=15,alpha=0.5,color='green')\n",
    "axs[0, 0].legend(['women','men'])\n",
    "axs[0, 0].set_title('age')\n",
    "axs[0, 1].hist(dataw['height'],bins=15, alpha=0.5,color='blue')\n",
    "axs[0, 1].hist(datam['height'],bins=15, alpha=0.5,color='green')\n",
    "axs[0, 1].legend(['women','men'])\n",
    "axs[0, 1].set_title('height')\n",
    "axs[1, 0].hist(dataw['weight'],bins=15, alpha=0.5,color='blue')\n",
    "axs[1, 0].hist(datam['weight'],bins=15, alpha=0.5,color='green')\n",
    "axs[1, 0].legend(['women','men'])\n",
    "axs[1, 0].set_title('weight')\n",
    "axs[1, 1].hist(dataw['smoke'],bins=15, alpha=0.5,color='blue')\n",
    "axs[1, 1].hist(datam['smoke'],bins=15, alpha=0.5,color='green')\n",
    "axs[1, 1].legend(['women','men'])\n",
    "axs[1, 1].set_title('smoke')\n",
    "\n"
   ]
  },
  {
   "cell_type": "markdown",
   "metadata": {
    "papermill": {
     "duration": 0.024794,
     "end_time": "2021-02-10T13:15:04.148141",
     "exception": false,
     "start_time": "2021-02-10T13:15:04.123347",
     "status": "completed"
    },
    "tags": []
   },
   "source": [
    "Here we can see \n",
    "* The age distribution between men and women is nearly the same (there is just more women in the dataset)\n",
    "* Men in this dataset is higher on the average than women\n",
    "* The weight distribution is also the same for both men and women, and the gaussian have a skew to the right\n",
    "* There is more men that smoke even considering there is more women in the dataset"
   ]
  },
  {
   "cell_type": "code",
   "execution_count": 11,
   "metadata": {
    "execution": {
     "iopub.execute_input": "2021-02-10T13:15:04.206024Z",
     "iopub.status.busy": "2021-02-10T13:15:04.204928Z",
     "iopub.status.idle": "2021-02-10T13:15:04.212897Z",
     "shell.execute_reply": "2021-02-10T13:15:04.212290Z"
    },
    "papermill": {
     "duration": 0.039725,
     "end_time": "2021-02-10T13:15:04.213067",
     "exception": false,
     "start_time": "2021-02-10T13:15:04.173342",
     "status": "completed"
    },
    "tags": []
   },
   "outputs": [
    {
     "name": "stdout",
     "output_type": "stream",
     "text": [
      "1.0487009716217728 1.0518089694501944\n",
      "0.0014774887146590638 0.018244227168712296\n"
     ]
    }
   ],
   "source": [
    "print(dataw['weight'].skew(),\n",
    "datam['weight'].skew()) # measure of skewness (>0:to the right ;=0 symmetrical ; <0 to the left)\n",
    "\n",
    "m = datam['smoke'].sum() / datam.size # proportion of men that smoke\n",
    "w = dataw['smoke'].sum() / dataw.size # proportion of women that smoke\n",
    "\n",
    "print(w,m)"
   ]
  },
  {
   "cell_type": "markdown",
   "metadata": {
    "papermill": {
     "duration": 0.025755,
     "end_time": "2021-02-10T13:15:04.266187",
     "exception": false,
     "start_time": "2021-02-10T13:15:04.240432",
     "status": "completed"
    },
    "tags": []
   },
   "source": [
    "So men are 12 times more smokers than women in this dataset"
   ]
  },
  {
   "cell_type": "code",
   "execution_count": 12,
   "metadata": {
    "execution": {
     "iopub.execute_input": "2021-02-10T13:15:04.350684Z",
     "iopub.status.busy": "2021-02-10T13:15:04.332407Z",
     "iopub.status.idle": "2021-02-10T13:15:05.133369Z",
     "shell.execute_reply": "2021-02-10T13:15:05.133887Z"
    },
    "papermill": {
     "duration": 0.842123,
     "end_time": "2021-02-10T13:15:05.134077",
     "exception": false,
     "start_time": "2021-02-10T13:15:04.291954",
     "status": "completed"
    },
    "tags": []
   },
   "outputs": [
    {
     "data": {
      "text/plain": [
       "Text(0.5, 1.0, 'gluc')"
      ]
     },
     "execution_count": 12,
     "metadata": {},
     "output_type": "execute_result"
    },
    {
     "data": {
      "image/png": "[encoded data removed]",
      "text/plain": [
       "<Figure size 720x720 with 4 Axes>"
      ]
     },
     "metadata": {
      "needs_background": "light"
     },
     "output_type": "display_data"
    }
   ],
   "source": [
    "\n",
    "fig, axs = plt.subplots(2, 2,figsize=(10,10))\n",
    "axs[0, 0].hist(dataw['ap_hi'], bins=12, alpha=0.5,color='blue')\n",
    "axs[0, 0].hist(datam['ap_hi'], bins=12, alpha=0.5,color='green')\n",
    "axs[0, 0].legend(['women','men'])\n",
    "axs[0, 0].set_title('ap_hi')\n",
    "\n",
    "axs[0, 1].hist(dataw['ap_lo'],bins=12, alpha=0.5,color='blue')\n",
    "axs[0, 1].hist(datam['ap_lo'],bins=12, alpha=0.5,color='green')\n",
    "axs[0, 1].legend(['women','men'])\n",
    "axs[0, 1].set_title('ap_lo')\n",
    "\n",
    "axs[1, 0].hist(dataw['cholesterol'],bins=4, alpha=0.5,color='blue')\n",
    "axs[1, 0].hist(datam['cholesterol'],bins=4, alpha=0.5,color='green')\n",
    "axs[1, 0].legend(['women','men'])\n",
    "axs[1, 0].set_title('cholesterol')\n",
    "\n",
    "axs[1, 1].hist(dataw['gluc'],bins=4, alpha=0.5,color='blue')\n",
    "axs[1, 1].hist(datam['gluc'],bins=4, alpha=0.5,color='green')\n",
    "axs[1, 1].legend(['women','men'])\n",
    "axs[1, 1].set_title('gluc')"
   ]
  },
  {
   "cell_type": "markdown",
   "metadata": {
    "papermill": {
     "duration": 0.027595,
     "end_time": "2021-02-10T13:15:05.188973",
     "exception": false,
     "start_time": "2021-02-10T13:15:05.161378",
     "status": "completed"
    },
    "tags": []
   },
   "source": [
    "The distributions for pressure, cholesterol and glucose are nearly the same for both men and women.Now the same for cardiovascular condition"
   ]
  },
  {
   "cell_type": "code",
   "execution_count": 13,
   "metadata": {
    "execution": {
     "iopub.execute_input": "2021-02-10T13:15:05.260537Z",
     "iopub.status.busy": "2021-02-10T13:15:05.255564Z",
     "iopub.status.idle": "2021-02-10T13:15:06.075467Z",
     "shell.execute_reply": "2021-02-10T13:15:06.074813Z"
    },
    "papermill": {
     "duration": 0.858411,
     "end_time": "2021-02-10T13:15:06.075648",
     "exception": false,
     "start_time": "2021-02-10T13:15:05.217237",
     "status": "completed"
    },
    "tags": []
   },
   "outputs": [
    {
     "data": {
      "text/plain": [
       "Text(0.5, 1.0, 'smoke')"
      ]
     },
     "execution_count": 13,
     "metadata": {},
     "output_type": "execute_result"
    },
    {
     "data": {
      "image/png": "[encoded data removed]",
      "text/plain": [
       "<Figure size 720x720 with 4 Axes>"
      ]
     },
     "metadata": {
      "needs_background": "light"
     },
     "output_type": "display_data"
    }
   ],
   "source": [
    "data0 = data[data['cardio']==0]\n",
    "data1 = data[data['cardio']==1]\n",
    "\n",
    "\n",
    "fig, axs = plt.subplots(2, 2,figsize=(10,10))\n",
    "axs[0, 0].hist(data0['age'], bins=10, alpha=0.5,color='blue')\n",
    "axs[0, 0].hist(data1['age'], bins=10, alpha=0.5,color='green')\n",
    "axs[0, 0].legend(['healthy','cardio'])\n",
    "axs[0, 0].set_title('age')\n",
    "axs[0, 1].hist(data0['height'],bins=12, alpha=0.5,color='blue')\n",
    "axs[0, 1].hist(data1['height'],bins=12, alpha=0.5,color='green')\n",
    "axs[0, 1].legend(['healthy','cardio'])\n",
    "axs[0, 1].set_title('height')\n",
    "axs[1, 0].hist(data0['weight'],bins=15, alpha=0.5,color='blue')\n",
    "axs[1, 0].hist(data1['weight'],bins=15, alpha=0.5,color='green')\n",
    "axs[1, 0].legend(['healthy','cardio'])\n",
    "axs[1, 0].set_title('weight')\n",
    "axs[1, 1].hist(data0['smoke'],bins=3, alpha=0.5,color='blue')\n",
    "axs[1, 1].hist(data1['smoke'],bins=3, alpha=0.5,color='green')\n",
    "axs[1, 1].legend(['healthy','cardio'])\n",
    "axs[1, 1].set_title('smoke')"
   ]
  },
  {
   "cell_type": "markdown",
   "metadata": {
    "papermill": {
     "duration": 0.03068,
     "end_time": "2021-02-10T13:15:06.137460",
     "exception": false,
     "start_time": "2021-02-10T13:15:06.106780",
     "status": "completed"
    },
    "tags": []
   },
   "source": [
    "We can see that age is a important factor to predict a cardiovascular disease. "
   ]
  },
  {
   "cell_type": "code",
   "execution_count": 14,
   "metadata": {
    "execution": {
     "iopub.execute_input": "2021-02-10T13:15:06.246851Z",
     "iopub.status.busy": "2021-02-10T13:15:06.233226Z",
     "iopub.status.idle": "2021-02-10T13:15:07.052640Z",
     "shell.execute_reply": "2021-02-10T13:15:07.051864Z"
    },
    "papermill": {
     "duration": 0.884769,
     "end_time": "2021-02-10T13:15:07.052814",
     "exception": false,
     "start_time": "2021-02-10T13:15:06.168045",
     "status": "completed"
    },
    "tags": []
   },
   "outputs": [
    {
     "data": {
      "text/plain": [
       "Text(0.5, 1.0, 'gluc')"
      ]
     },
     "execution_count": 14,
     "metadata": {},
     "output_type": "execute_result"
    },
    {
     "data": {
      "image/png": "[encoded data removed]",
      "text/plain": [
       "<Figure size 720x720 with 4 Axes>"
      ]
     },
     "metadata": {
      "needs_background": "light"
     },
     "output_type": "display_data"
    }
   ],
   "source": [
    "fig, axs = plt.subplots(2, 2,figsize=(10,10))\n",
    "axs[0, 0].hist(data0['ap_hi'], bins=12, alpha=0.5,color='blue')\n",
    "axs[0, 0].hist(data1['ap_hi'], bins=12, alpha=0.5,color='green')\n",
    "axs[0, 0].legend(['healthy','cardio'])\n",
    "axs[0, 0].set_title('ap_hi')\n",
    "\n",
    "axs[0, 1].hist(data0['ap_lo'],bins=12, alpha=0.5,color='blue')\n",
    "axs[0, 1].hist(data1['ap_lo'],bins=12, alpha=0.5,color='green')\n",
    "axs[0, 1].legend(['healthy','cardio'])\n",
    "axs[0, 1].set_title('ap_lo')\n",
    "\n",
    "axs[1, 0].hist(data0['cholesterol'],bins=4, alpha=0.5,color='blue')\n",
    "axs[1, 0].hist(data1['cholesterol'],bins=4, alpha=0.5,color='green')\n",
    "axs[1, 0].legend(['healthy','cardio'])\n",
    "axs[1, 0].set_title('cholesterol')\n",
    "\n",
    "axs[1, 1].hist(data0['gluc'],bins=4, alpha=0.5,color='blue')\n",
    "axs[1, 1].hist(data1['gluc'],bins=4, alpha=0.5,color='green')\n",
    "axs[1, 1].legend(['healthy','cardio'])\n",
    "axs[1, 1].set_title('gluc')"
   ]
  },
  {
   "cell_type": "markdown",
   "metadata": {
    "papermill": {
     "duration": 0.030677,
     "end_time": "2021-02-10T13:15:07.114743",
     "exception": false,
     "start_time": "2021-02-10T13:15:07.084066",
     "status": "completed"
    },
    "tags": []
   },
   "source": [
    "Here we can also indentify ap_hi, cholesterol and glucose as important factors"
   ]
  },
  {
   "cell_type": "markdown",
   "metadata": {
    "papermill": {
     "duration": 0.030603,
     "end_time": "2021-02-10T13:15:07.177060",
     "exception": false,
     "start_time": "2021-02-10T13:15:07.146457",
     "status": "completed"
    },
    "tags": []
   },
   "source": [
    "The correlation matrix..."
   ]
  },
  {
   "cell_type": "code",
   "execution_count": 15,
   "metadata": {
    "execution": {
     "iopub.execute_input": "2021-02-10T13:15:07.251354Z",
     "iopub.status.busy": "2021-02-10T13:15:07.250625Z",
     "iopub.status.idle": "2021-02-10T13:15:07.623630Z",
     "shell.execute_reply": "2021-02-10T13:15:07.622830Z"
    },
    "papermill": {
     "duration": 0.413966,
     "end_time": "2021-02-10T13:15:07.623811",
     "exception": false,
     "start_time": "2021-02-10T13:15:07.209845",
     "status": "completed"
    },
    "tags": []
   },
   "outputs": [
    {
     "data": {
      "image/png": "[encoded data removed]",
      "text/plain": [
       "<Figure size 1152x432 with 2 Axes>"
      ]
     },
     "metadata": {
      "needs_background": "light"
     },
     "output_type": "display_data"
    }
   ],
   "source": [
    "plt.figure(figsize=(16, 6))\n",
    "sns.heatmap(data.corr()).set_title('Correlation Heatmap', fontdict={'fontsize':12}, pad=12);\n"
   ]
  },
  {
   "cell_type": "markdown",
   "metadata": {
    "papermill": {
     "duration": 0.034241,
     "end_time": "2021-02-10T13:15:07.690154",
     "exception": false,
     "start_time": "2021-02-10T13:15:07.655913",
     "status": "completed"
    },
    "tags": []
   },
   "source": [
    "We can see that age,weight,ap_hi,ap_lo,cholesterol and gluc have the biggest correlation value with cardio. Now we can train a model to predict if a patient have some cardiovascular disease. For this run we are going with a logistic regression strategy."
   ]
  },
  {
   "cell_type": "markdown",
   "metadata": {
    "papermill": {
     "duration": 0.033689,
     "end_time": "2021-02-10T13:15:07.756401",
     "exception": false,
     "start_time": "2021-02-10T13:15:07.722712",
     "status": "completed"
    },
    "tags": []
   },
   "source": [
    "# Logistic regression\n",
    "\n",
    "The strategy here is to use the features : age,gender,height,weight,dyastolic and systolic pressures, cholesterol,glucose,smoke and active\n",
    "\n",
    "For the training and validation, cross validation were used. 80% of the dataset were used to train and 20% to validade the model.\n",
    "\n"
   ]
  },
  {
   "cell_type": "code",
   "execution_count": 16,
   "metadata": {
    "_cell_guid": "b1076dfc-b9ad-4769-8c92-a6c4dae69d19",
    "_uuid": "8f2839f25d086af736a60e9eeb907d3b93b6e0e5",
    "execution": {
     "iopub.execute_input": "2021-02-10T13:15:07.833272Z",
     "iopub.status.busy": "2021-02-10T13:15:07.831700Z",
     "iopub.status.idle": "2021-02-10T13:15:08.718841Z",
     "shell.execute_reply": "2021-02-10T13:15:08.717893Z"
    },
    "papermill": {
     "duration": 0.928628,
     "end_time": "2021-02-10T13:15:08.719077",
     "exception": false,
     "start_time": "2021-02-10T13:15:07.790449",
     "status": "completed"
    },
    "tags": []
   },
   "outputs": [
    {
     "name": "stdout",
     "output_type": "stream",
     "text": [
      "0.7129904982954958\n"
     ]
    },
    {
     "name": "stderr",
     "output_type": "stream",
     "text": [
      "/opt/conda/lib/python3.7/site-packages/sklearn/linear_model/_logistic.py:764: ConvergenceWarning: lbfgs failed to converge (status=1):\n",
      "STOP: TOTAL NO. of ITERATIONS REACHED LIMIT.\n",
      "\n",
      "Increase the number of iterations (max_iter) or scale the data as shown in:\n",
      "    https://scikit-learn.org/stable/modules/preprocessing.html\n",
      "Please also refer to the documentation for alternative solver options:\n",
      "    https://scikit-learn.org/stable/modules/linear_model.html#logistic-regression\n",
      "  extra_warning_msg=_LOGISTIC_SOLVER_CONVERGENCE_MSG)\n"
     ]
    }
   ],
   "source": [
    "log_data=[data['age'],data['gender'],data['height'],data['weight'],data['ap_hi'],data['ap_lo'],data['cholesterol'],data['gluc'],data['smoke'],data['active']]\n",
    "log_data=np.array(log_data)\n",
    "log_data=log_data.transpose()\n",
    "train_data,test_data,train_target,test_target = train_test_split(log_data, data['cardio'], test_size=0.2)\n",
    "\n",
    "\n",
    "lr = LogisticRegression().fit(train_data,train_target)\n",
    "\n",
    "\n",
    "p=lr.score(test_data,test_target)\n",
    "\n",
    "\n",
    "print(p)\n"
   ]
  },
  {
   "cell_type": "markdown",
   "metadata": {
    "papermill": {
     "duration": 0.033244,
     "end_time": "2021-02-10T13:15:08.787230",
     "exception": false,
     "start_time": "2021-02-10T13:15:08.753986",
     "status": "completed"
    },
    "tags": []
   },
   "source": [
    "# Notes\n",
    "\n",
    "Here we explored a very superficial logistic regression. We could try neural networks, support vector machines etc.\n",
    "We made some assumptions in the way and it would be nice to made them clear.\n",
    "\n",
    "\n",
    "\n",
    "* The systolic and dyastolic pressures (columns ap_hi and ap_lo) were measured in mmHg\n",
    "* The same pressures had sometimes negative values and other impossible ones (>1000). We made the assumptions that the negative ones were transcription errors. We dropped the super-large ones\n",
    "* We also assumed a minimum weight of 30kg to be valid, and that may not be true if dwarfism cases were in the dataset\n",
    "* We defined the acceptable intervals for the pressures to be 10<ap_hi<220 and 10<ap_lo<190, and this assumption was not based in any concrete reference (higher pressures may be possible)\n",
    "\n",
    "\n",
    "This notebook was inspired by this work: https://www.kaggle.com/mnassrib/titanic-logistic-regression-with-python by Baligh Mnassri on the titanic dataset\n",
    "\n",
    "\n",
    "\n"
   ]
  }
 ],
 "metadata": {
  "kernelspec": {
   "display_name": "Python 3",
   "language": "python",
   "name": "python3"
  },
  "language_info": {
   "codemirror_mode": {
    "name": "ipython",
    "version": 3
   },
   "file_extension": ".py",
   "mimetype": "text/x-python",
   "name": "python",
   "nbconvert_exporter": "python",
   "pygments_lexer": "ipython3",
   "version": "3.7.9"
  },
  "papermill": {
   "default_parameters": {},
   "duration": 15.172994,
   "end_time": "2021-02-10T13:15:09.533974",
   "environment_variables": {},
   "exception": null,
   "input_path": "__notebook__.ipynb",
   "output_path": "__notebook__.ipynb",
   "parameters": {},
   "start_time": "2021-02-10T13:14:54.360980",
   "version": "2.2.2"
  }
 },
 "nbformat": 4,
 "nbformat_minor": 4
}
